{
 "cells": [
  {
   "attachments": {},
   "cell_type": "markdown",
   "metadata": {},
   "source": [
    "## Setup globals\n",
    "Fill in the `<user>`, `<password>`, and `<load-balancer-ip>` fields in the `MONGODB_URI` string."
   ]
  },
  {
   "cell_type": "code",
   "execution_count": 1,
   "metadata": {},
   "outputs": [],
   "source": [
    "ISLAND_IMAGE_NAME = \"europe-west4-docker.pkg.dev/island-algorithm-infra/islands/island\"\n",
    "MONGODB_URI = \"mongodb://<user>:<password>@<load-balancer-ip>:27017/prod\" "
   ]
  },
  {
   "attachments": {},
   "cell_type": "markdown",
   "metadata": {},
   "source": [
    "## Pod config"
   ]
  },
  {
   "cell_type": "code",
   "execution_count": 2,
   "metadata": {},
   "outputs": [],
   "source": [
    "from dataclasses import dataclass, field\n",
    "\n",
    "\n",
    "def fill_pod_manifest(\n",
    "    image_name: str,\n",
    "    pod_name: str,\n",
    "    mongodb_uri: str,\n",
    "    island_id: str,\n",
    "    coupled_island_id: str,\n",
    ") -> dict:\n",
    "    pod_manifest = {\n",
    "        \"apiVersion\": \"v1\",\n",
    "        \"kind\": \"Pod\",\n",
    "        \"metadata\": {\"name\": pod_name},\n",
    "        \"spec\": {\n",
    "            \"containers\": [\n",
    "                {\n",
    "                    \"name\": \"island-container\",\n",
    "                    \"image\": image_name,\n",
    "                    \"env\": [\n",
    "                        {\"name\": \"MONGODB_URI\", \"value\": mongodb_uri},\n",
    "                        {\"name\": \"ISLAND_ID\", \"value\": island_id},\n",
    "                        {\"name\": \"COUPLED_ISLAND_ID\", \"value\": coupled_island_id},\n",
    "                    ],\n",
    "                }\n",
    "            ],\n",
    "        },\n",
    "    }\n",
    "\n",
    "    return pod_manifest\n",
    "\n",
    "\n",
    "@dataclass\n",
    "class Pod:\n",
    "    id: int\n",
    "    name: str\n",
    "    namespace: str\n",
    "    manifest: dict = field(default_factory=dict)\n",
    "\n",
    "\n",
    "def create_pods(num_pods: int) -> tuple[Pod]:\n",
    "    pods = []\n",
    "    for pod_id in range(1, num_pods + 1):\n",
    "        pod_name = f\"island-pod-{pod_id}\"\n",
    "        island_id = f\"ISLAND{pod_id}\"\n",
    "        coupled_island_id = f\"ISLAND{pod_id - 1 if pod_id - 1 > 0 else num_pods}\"\n",
    "        manifest = fill_pod_manifest(\n",
    "            image_name=ISLAND_IMAGE_NAME,\n",
    "            pod_name=pod_name,\n",
    "            mongodb_uri=MONGODB_URI,\n",
    "            island_id=island_id,\n",
    "            coupled_island_id=coupled_island_id,\n",
    "        )\n",
    "        pods.append(\n",
    "            Pod(id=pod_id, name=pod_name, manifest=manifest, namespace=\"islands\")\n",
    "        )\n",
    "\n",
    "    return tuple(pods)\n",
    "\n",
    "\n",
    "PODS = create_pods(4)"
   ]
  },
  {
   "attachments": {},
   "cell_type": "markdown",
   "metadata": {},
   "source": [
    "## Algorithm Setup"
   ]
  },
  {
   "cell_type": "code",
   "execution_count": 3,
   "metadata": {},
   "outputs": [
    {
     "data": {
      "application/vnd.jupyter.widget-view+json": {
       "model_id": "96b6622adaf7439ca3cdb8eed78aca88",
       "version_major": 2,
       "version_minor": 0
      },
      "text/plain": [
       "Button(description='Setup', layout=Layout(width='auto'), style=ButtonStyle())"
      ]
     },
     "metadata": {},
     "output_type": "display_data"
    },
    {
     "data": {
      "application/vnd.jupyter.widget-view+json": {
       "model_id": "285bf1254f2e417fa99a1f82a8ebe024",
       "version_major": 2,
       "version_minor": 0
      },
      "text/plain": [
       "Button(description='Teardown', disabled=True, layout=Layout(width='auto'), style=ButtonStyle())"
      ]
     },
     "metadata": {},
     "output_type": "display_data"
    },
    {
     "name": "stdout",
     "output_type": "stream",
     "text": [
      "Pod 'island-pod-1' deployed.\n",
      "Pod 'island-pod-2' deployed.\n",
      "Pod 'island-pod-3' deployed.\n",
      "Pod 'island-pod-4' deployed.\n"
     ]
    }
   ],
   "source": [
    "from typing import Iterable\n",
    "from kubernetes import client, config\n",
    "from ipywidgets import Button, Layout\n",
    "from IPython.display import display\n",
    "\n",
    "\n",
    "def check_cluster() -> None:\n",
    "    expected_cluster_name = \"gke_island-algorithm-infra_europe-west4_islands\"\n",
    "    if config.kube_config.list_kube_config_contexts()[1]['name'] != expected_cluster_name:\n",
    "        raise ValueError(f\"Connected to the wrong cluster. Please connect to {expected_cluster_name}\")\n",
    "\n",
    "\n",
    "def deploy_pod(api_instance: client.CoreV1Api, pod: Pod) -> None:\n",
    "    api_instance.create_namespaced_pod(body=pod.manifest, namespace=pod.namespace)\n",
    "    print(f\"Pod '{pod.name}' deployed.\")\n",
    "\n",
    "\n",
    "def delete_pod(api_instance: client.CoreV1Api, pod: Pod) -> None:\n",
    "    try:\n",
    "        api_instance.delete_namespaced_pod(name=pod.name, namespace=pod.namespace)\n",
    "        print(f\"Pod {pod.name} deleted\")\n",
    "    except client.exceptions.ApiException as e:\n",
    "        print(f\"Exception when calling CoreV1Api->delete_namespaced_pod: {e}\")\n",
    "\n",
    "\n",
    "def setup_islands(pods: Iterable[Pod]) -> None:\n",
    "    config.load_kube_config()\n",
    "    check_cluster()\n",
    "    api_instance = client.CoreV1Api()\n",
    "\n",
    "    for pod in pods:\n",
    "        deploy_pod(api_instance, pod)\n",
    "\n",
    "\n",
    "def teardown_islands(pods: Iterable[Pod]) -> None:\n",
    "    config.load_kube_config()\n",
    "    check_cluster()\n",
    "    api_instance = client.CoreV1Api()\n",
    "\n",
    "    for pod in pods:\n",
    "        delete_pod(api_instance, pod)\n",
    "\n",
    "\n",
    "\n",
    "pods_are_setup = False\n",
    "setup_button = Button(description=\"Setup\", layout=Layout(width=\"auto\"))\n",
    "teardown_button = Button(description=\"Teardown\", layout=Layout(width=\"auto\"), disabled=True)\n",
    "\n",
    "\n",
    "def on_setup_button_clicked(button):\n",
    "    global pods_are_setup\n",
    "    if not pods_are_setup:\n",
    "        setup_islands(PODS)  \n",
    "        pods_are_setup = True\n",
    "        setup_button.disabled = True\n",
    "        teardown_button.disabled = False\n",
    "\n",
    "def on_teardown_button_clicked(button):\n",
    "    global pods_are_setup\n",
    "    if pods_are_setup:\n",
    "        teardown_islands(PODS)\n",
    "        pods_are_setup = False\n",
    "        setup_button.disabled = False\n",
    "        teardown_button.disabled = True\n",
    "\n",
    "\n",
    "setup_button.on_click(on_setup_button_clicked)\n",
    "teardown_button.on_click(on_teardown_button_clicked)\n",
    "\n",
    "\n",
    "display(setup_button)\n",
    "display(teardown_button)"
   ]
  },
  {
   "attachments": {},
   "cell_type": "markdown",
   "metadata": {},
   "source": [
    "## Monitoring Results"
   ]
  },
  {
   "cell_type": "code",
   "execution_count": null,
   "metadata": {},
   "outputs": [
    {
     "data": {
      "application/vnd.jupyter.widget-view+json": {
       "model_id": "350eb900d13247adb1980b4b70212ded",
       "version_major": 2,
       "version_minor": 0
      },
      "text/plain": [
       "Output()"
      ]
     },
     "metadata": {},
     "output_type": "display_data"
    }
   ],
   "source": [
    "from pymongo import MongoClient\n",
    "import pandas as pd\n",
    "import matplotlib.pyplot as plt\n",
    "from ipywidgets import Output, IntSlider\n",
    "from IPython.display import clear_output, display\n",
    "import time\n",
    "\n",
    "\n",
    "output = Output()\n",
    "\n",
    "def monitor_results(pods: Iterable[Pod]) -> None:\n",
    "    client = MongoClient(MONGODB_URI)\n",
    "\n",
    "    db = client[\"prod\"]\n",
    "\n",
    "    collection = db[\"solutions\"]\n",
    "\n",
    "    island_ids = [f\"ISLAND{pod.id}\" for pod in pods]\n",
    "\n",
    "    while True:\n",
    "        with output:\n",
    "            clear_output(wait=True)\n",
    "            fig, axs = plt.subplots(2, 2, figsize=(15, 10))\n",
    "            fig.suptitle(\"Fitness over Time\")\n",
    "\n",
    "            for i, island_id in enumerate(island_ids):\n",
    "                cursor = collection.find({\"islandId\": island_id})\n",
    "\n",
    "                data_list = list(cursor)\n",
    "\n",
    "                df = pd.DataFrame(data_list)\n",
    "\n",
    "                df[\"timestamp\"] = pd.to_datetime(df[\"timestamp\"], format=\"%Y:%m:%d %H:%M:%S\")\n",
    "\n",
    "                df = df.sort_values(by=\"timestamp\")\n",
    "\n",
    "                axs[i // 2, i % 2].plot(df[\"timestamp\"], df[\"Fitness\"])\n",
    "                axs[i // 2, i % 2].set_title(\"Island: {}\".format(island_id))\n",
    "                axs[i // 2, i % 2].set_xlabel(\"Time\")\n",
    "                axs[i // 2, i % 2].set_ylabel(\"Fitness\")\n",
    "\n",
    "            plt.tight_layout()\n",
    "            plt.show()\n",
    "            time.sleep(1)\n",
    "\n",
    "display(output)\n",
    "monitor_results(PODS)"
   ]
  },
  {
   "cell_type": "code",
   "execution_count": null,
   "metadata": {},
   "outputs": [],
   "source": []
  }
 ],
 "metadata": {
  "kernelspec": {
   "display_name": "Python 3 (ipykernel)",
   "language": "python",
   "name": "python3"
  },
  "language_info": {
   "codemirror_mode": {
    "name": "ipython",
    "version": 3
   },
   "file_extension": ".py",
   "mimetype": "text/x-python",
   "name": "python",
   "nbconvert_exporter": "python",
   "pygments_lexer": "ipython3",
   "version": "3.10.11"
  }
 },
 "nbformat": 4,
 "nbformat_minor": 2
}
